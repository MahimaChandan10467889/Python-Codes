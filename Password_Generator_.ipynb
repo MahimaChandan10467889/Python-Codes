{
  "nbformat": 4,
  "nbformat_minor": 0,
  "metadata": {
    "colab": {
      "name": "Password Generator .ipynb",
      "provenance": [],
      "authorship_tag": "ABX9TyPi2I3OBON61RVsolwyN4JF",
      "include_colab_link": true
    },
    "kernelspec": {
      "name": "python3",
      "display_name": "Python 3"
    },
    "language_info": {
      "name": "python"
    }
  },
  "cells": [
    {
      "cell_type": "markdown",
      "metadata": {
        "id": "view-in-github",
        "colab_type": "text"
      },
      "source": [
        "<a href=\"https://colab.research.google.com/github/MahimaChandan10467889/Python-Codes/blob/main/Password_Generator_.ipynb\" target=\"_parent\"><img src=\"https://colab.research.google.com/assets/colab-badge.svg\" alt=\"Open In Colab\"/></a>"
      ]
    },
    {
      "cell_type": "code",
      "execution_count": 11,
      "metadata": {
        "colab": {
          "base_uri": "https://localhost:8080/"
        },
        "id": "JAWm-K6A1o3L",
        "outputId": "68d1d7eb-8a7c-4106-b8c6-9d76b8093858"
      },
      "outputs": [
        {
          "output_type": "stream",
          "name": "stdout",
          "text": [
            "Welcome to the Password Generator\n",
            "\n",
            "Enter the length of password: 1\n",
            "\n",
            "Your password is -  _\"6/J]'TR=+F?|`8\n"
          ]
        }
      ],
      "source": [
        "import random\n",
        "import string\n",
        "\n",
        "print(\"Welcome to the Password Generator\")\n",
        "\n",
        "length = int(input('\\nEnter the length of password: '))\n",
        "\n",
        "lc = string.ascii_lowercase\n",
        "uc = string.ascii_uppercase\n",
        "dig = string.digits\n",
        "sym = string.punctuation\n",
        "\n",
        "all = lc + uc + dig + sym\n",
        "\n",
        "temp = random.sample(all,max(16,length))\n",
        "password = \"\".join(temp)\n",
        "print(\"\\nYour password is - \",password)"
      ]
    },
    {
      "cell_type": "code",
      "source": [
        ""
      ],
      "metadata": {
        "id": "D_CDvq72TA6n"
      },
      "execution_count": null,
      "outputs": []
    }
  ]
}