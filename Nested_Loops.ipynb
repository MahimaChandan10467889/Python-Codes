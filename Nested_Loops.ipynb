{
  "nbformat": 4,
  "nbformat_minor": 0,
  "metadata": {
    "colab": {
      "name": "Nested Loops.ipynb",
      "provenance": [],
      "authorship_tag": "ABX9TyMIhkutc47gBQLMwMMNXo1J",
      "include_colab_link": true
    },
    "kernelspec": {
      "name": "python3",
      "display_name": "Python 3"
    },
    "language_info": {
      "name": "python"
    }
  },
  "cells": [
    {
      "cell_type": "markdown",
      "metadata": {
        "id": "view-in-github",
        "colab_type": "text"
      },
      "source": [
        "<a href=\"https://colab.research.google.com/github/MahimaChandan10467889/Python-Codes/blob/main/Nested_Loops.ipynb\" target=\"_parent\"><img src=\"https://colab.research.google.com/assets/colab-badge.svg\" alt=\"Open In Colab\"/></a>"
      ]
    },
    {
      "cell_type": "markdown",
      "source": [
        "Using two lists.\n",
        "\n",
        "numSet = [1,2,3]\n",
        "\n",
        "alphaSet = ['A', 'B', 'C']\n",
        "\n",
        "Write a program that will iterate through the first loop and for each iteration, it will iterate through the nested loop completely.  \n",
        "\n",
        "Thus it will perform three inner loops through alphaSet for each loop through numSet.  \n",
        "\n",
        "Provide for both the while and for loops in the same program, create nested loops that print a table that looks like this\n",
        "\n",
        "1 A\n",
        "\n",
        "1 B\n",
        "\n",
        "1 C\n",
        "\n",
        "2 A\n",
        "\n",
        "2 B\n",
        "\n",
        "2 C\n",
        "\n",
        "3 A\n",
        "\n",
        "3 B\n",
        "\n",
        "3 C"
      ],
      "metadata": {
        "id": "URY4M8ClwWtR"
      }
    },
    {
      "cell_type": "code",
      "execution_count": 1,
      "metadata": {
        "colab": {
          "base_uri": "https://localhost:8080/"
        },
        "id": "1jpc53nSuuNZ",
        "outputId": "a0085c6f-6916-4c8b-f5bb-9e16f6d2824f"
      },
      "outputs": [
        {
          "output_type": "stream",
          "name": "stdout",
          "text": [
            "1A\n",
            "1B\n",
            "1C\n",
            "2A\n",
            "2B\n",
            "2C\n",
            "3A\n",
            "3B\n",
            "3C\n"
          ]
        }
      ],
      "source": [
        "#defining the two lists as given in questions\n",
        "numSet = [1,2,3]\n",
        "alphaSet = ['A','B','C']\n",
        "\n",
        "#for loops iterate through the range of 0 to the length of the list\n",
        "for i in range(len(numSet)):\n",
        "    for j in range(len(alphaSet)):\n",
        "        print(str(numSet[i])+alphaSet[j])"
      ]
    },
    {
      "cell_type": "code",
      "source": [
        "#defining the two lists as given in questions\n",
        "numSet = [1,2,3]\n",
        "alphaSet = ['A','B','C']\n",
        "\n",
        "#iterators set to 0\n",
        "i=0\n",
        "#while loops iterate till the iterator is less than the length of the list\n",
        "while i < len(numSet):\n",
        "  #iterators set to 0\n",
        "  j=0\n",
        "  #while loops iterate till the iterator is less than the length of the list\n",
        "  while j < len(alphaSet):\n",
        "    print(str(numSet[i])+alphaSet[j])\n",
        "    #increment the iterator inside the loop\n",
        "    j=j+1\n",
        "  #increment the iterator inside the loop\n",
        "  i=i+1"
      ],
      "metadata": {
        "colab": {
          "base_uri": "https://localhost:8080/"
        },
        "id": "jAq3FGXrvBzc",
        "outputId": "769cf9b4-fb07-4ff2-82a6-5e6baa2fcbd8"
      },
      "execution_count": 11,
      "outputs": [
        {
          "output_type": "stream",
          "name": "stdout",
          "text": [
            "1A\n",
            "1B\n",
            "1C\n",
            "2A\n",
            "2B\n",
            "2C\n",
            "3A\n",
            "3B\n",
            "3C\n"
          ]
        }
      ]
    },
    {
      "cell_type": "markdown",
      "source": [
        ""
      ],
      "metadata": {
        "id": "6vz0B-wJwQ46"
      }
    }
  ]
}