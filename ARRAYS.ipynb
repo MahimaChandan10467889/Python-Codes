{
  "nbformat": 4,
  "nbformat_minor": 0,
  "metadata": {
    "colab": {
      "name": "ARRAYS.ipynb",
      "provenance": [],
      "authorship_tag": "ABX9TyN0PnHg9pg87T+LT1um8A1p",
      "include_colab_link": true
    },
    "kernelspec": {
      "name": "python3",
      "display_name": "Python 3"
    },
    "language_info": {
      "name": "python"
    }
  },
  "cells": [
    {
      "cell_type": "markdown",
      "metadata": {
        "id": "view-in-github",
        "colab_type": "text"
      },
      "source": [
        "<a href=\"https://colab.research.google.com/github/MahimaChandan10467889/Python-Codes/blob/main/ARRAYS.ipynb\" target=\"_parent\"><img src=\"https://colab.research.google.com/assets/colab-badge.svg\" alt=\"Open In Colab\"/></a>"
      ]
    },
    {
      "cell_type": "markdown",
      "source": [
        "ARRAY ROTATION\n",
        "\n",
        "Write a function rotate(arr[], d, n) that rotates arr[] of size n by d elements. "
      ],
      "metadata": {
        "id": "LUrnOyXkdSqe"
      }
    },
    {
      "cell_type": "markdown",
      "source": [
        "METHOD 1"
      ],
      "metadata": {
        "id": "4squnBxtfMQz"
      }
    },
    {
      "cell_type": "code",
      "execution_count": 2,
      "metadata": {
        "colab": {
          "base_uri": "https://localhost:8080/"
        },
        "id": "LjbPxBVldJ_f",
        "outputId": "f993e415-55b8-4866-fafc-a6da7fb8ed34"
      },
      "outputs": [
        {
          "output_type": "stream",
          "name": "stdout",
          "text": [
            "[3, 4, 5, 6, 7, 1, 2]\n"
          ]
        }
      ],
      "source": [
        "def rotate (List1, dist, size):\n",
        "    # store the index of dist variable\n",
        "    ind=List1.index(dist) \n",
        "    # create temporary list\n",
        "    temp=[]\n",
        "    # slice the part before the index and after the index and rearrange\n",
        "    temp=List1[ind+1:]+List1[0:ind+1]\n",
        "    return temp\n",
        "\n",
        "print(rotate([1,2,3,4,5,6,7],2,7))\n",
        "\n",
        "# Time - O(n)\n",
        "# Space  - O(n)"
      ]
    },
    {
      "cell_type": "markdown",
      "source": [
        "METHOD 2"
      ],
      "metadata": {
        "id": "KwxCFvuvfNnw"
      }
    },
    {
      "cell_type": "code",
      "source": [
        "def rotate (List1, dist, size):\n",
        "  for j in range(0,dist):\n",
        "    Temp=List1[0]\n",
        "    for i in range(0,size-1):\n",
        "      List1[i]=List1[i+1]\n",
        "    List1[size-1]=Temp\n",
        "\n",
        "  return(List1)\n",
        "print(rotate([1,2,3,4,5,6,7],2,7))"
      ],
      "metadata": {
        "colab": {
          "base_uri": "https://localhost:8080/"
        },
        "id": "IOW8ws-Me23i",
        "outputId": "946da2a9-c096-4d55-e15d-0a7eaace08f6"
      },
      "execution_count": 19,
      "outputs": [
        {
          "output_type": "stream",
          "name": "stdout",
          "text": [
            "[3, 4, 5, 6, 7, 1, 2]\n"
          ]
        }
      ]
    },
    {
      "cell_type": "markdown",
      "source": [
        "METHOD 3\n",
        "reverse of (reverse of a * reverse of b) is b*a\n"
      ],
      "metadata": {
        "id": "Ip-9bc0whr7a"
      }
    },
    {
      "cell_type": "code",
      "source": [
        "def rotate (Arr, dist, size):\n",
        "  # small function to return a reverse of sublist\n",
        "  def reverse_sublist(list1,start,end):\n",
        "      list1[start:end] = list1[start:end][::-1]\n",
        "      return list1\n",
        "  #reverse of fist part of list\n",
        "  reverse_sublist(Arr,0,dist)\n",
        "  #reverse of second part of list\n",
        "  reverse_sublist(Arr,dist,size)\n",
        "  #reverse of entire list to give desired output\n",
        "  reverse_sublist(Arr,0,size)\n",
        "  return(Arr)\n",
        "print(rotate([1,2,3,4,5,6,7],2,7))\n"
      ],
      "metadata": {
        "colab": {
          "base_uri": "https://localhost:8080/"
        },
        "id": "2sHl8HikhrhY",
        "outputId": "f03d6c2a-6510-47bc-b27b-955775282eb8"
      },
      "execution_count": 47,
      "outputs": [
        {
          "output_type": "stream",
          "name": "stdout",
          "text": [
            "[3, 4, 5, 6, 7, 1, 2]\n"
          ]
        }
      ]
    },
    {
      "cell_type": "markdown",
      "source": [
        "Rearrange an array such that arr[i] = i"
      ],
      "metadata": {
        "id": "v-cOD5u-npcV"
      }
    },
    {
      "cell_type": "markdown",
      "source": [
        "Method 1\n"
      ],
      "metadata": {
        "id": "mTk7soRAoaWk"
      }
    },
    {
      "cell_type": "code",
      "source": [
        "def changeArray(arr,n):\n",
        "  for i in range(n):\n",
        "    for j in range(n):\n",
        "      if arr[j]==i:\n",
        "        arr[j],arr[i]=arr[i],arr[j]\n",
        "  for i in range(n):\n",
        "    if arr[i]!=i:\n",
        "      arr[i]=-1\n",
        "  return arr  \n",
        "\n",
        "print(changeArray([ -1, -1, 6, 1, 9, 3, 2, -1, 4, -1 ],10))"
      ],
      "metadata": {
        "colab": {
          "base_uri": "https://localhost:8080/"
        },
        "id": "QWowxEAtobrN",
        "outputId": "63bb4b09-cacc-46a7-dd8b-174acc6f8cc1"
      },
      "execution_count": 54,
      "outputs": [
        {
          "output_type": "stream",
          "name": "stdout",
          "text": [
            "[-1, 1, 2, 3, 4, -1, 6, -1, -1, 9]\n"
          ]
        }
      ]
    },
    {
      "cell_type": "markdown",
      "source": [
        "Largest Sum Contiguous Subarray"
      ],
      "metadata": {
        "id": "95sgp__6vmYK"
      }
    },
    {
      "cell_type": "code",
      "source": [
        ""
      ],
      "metadata": {
        "id": "ZvqKncQTvpHH"
      },
      "execution_count": null,
      "outputs": []
    }
  ]
}