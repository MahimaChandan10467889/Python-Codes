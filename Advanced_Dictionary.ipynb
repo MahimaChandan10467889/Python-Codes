{
  "nbformat": 4,
  "nbformat_minor": 0,
  "metadata": {
    "colab": {
      "name": "Advanced_Dictionary.ipynb",
      "provenance": [],
      "authorship_tag": "ABX9TyMwaUh+kwZ6ddju/byzzbHm",
      "include_colab_link": true
    },
    "kernelspec": {
      "name": "python3",
      "display_name": "Python 3"
    },
    "language_info": {
      "name": "python"
    }
  },
  "cells": [
    {
      "cell_type": "markdown",
      "metadata": {
        "id": "view-in-github",
        "colab_type": "text"
      },
      "source": [
        "<a href=\"https://colab.research.google.com/github/MahimaChandan10467889/Python-Codes/blob/main/Advanced_Dictionary.ipynb\" target=\"_parent\"><img src=\"https://colab.research.google.com/assets/colab-badge.svg\" alt=\"Open In Colab\"/></a>"
      ]
    },
    {
      "cell_type": "markdown",
      "source": [
        "QUESTION: \n",
        "\n",
        "Write a program that will take this dictionary:\n",
        "\n",
        "gradePoints = {\"A\":4,\"B\":3,\"C\":2,\"D\":1,\"F\":0}\n",
        "\n",
        "and this list:\n",
        "\n",
        "courseList = [\"CST 161\",\"Mat 144\",\"ENG 201\",\"PSY 101\",\"HIS 101\"]\n",
        "\n",
        "and randomly use elements from each of these lists :\n",
        "\n",
        "gradeList = [\"A\",\"B\",\"C\",\"D\",\"F\"]\n",
        "\n",
        "creditList = [3,4]\n",
        "\n",
        "and produce a grade point average.\n",
        "\n",
        "Academic average is determined by dividing the total number of quality\n",
        "points earned by the total number of credits taken, whether passed or\n",
        "failed. The following table is an illustration of this computation:\n",
        "GRADE & QUALITY NUMERICAL POINTS\n",
        "Course . . . Credits Value Per Course\n",
        "HIS 101. . . . . .3 C    (2) 6\n",
        "PSY 101. . . . . 3 B    (3) 9\n",
        "MAT 144. . . . 4 D    (1) 4\n",
        "ENG 201. . . .  3 B+ (3.5) 10.5\n",
        "CST 161. . . . . 3 F     (0) 0\n",
        "\n",
        "Total credits taken: 16\n",
        "Total quality points earned 29.5\n",
        "29.5 divided by 16 results in a 1.8 grade\n",
        "point average.\n",
        "\n",
        "Here the gradeList element will be embedded as the key in referencing the grade points.  \n",
        "\n",
        "(e.g. gPoints = gradePoints[random gradeList element])\n",
        "\n",
        "(e.g. creditHours = random creditList element). \n",
        "\n",
        "To get a random list element, use the randint method with a range of (0,len(list)).  \n",
        "\n",
        "That will be multiplied by the gPoints per course.\n",
        "\n",
        "Multiply them to get the the valuePerCourse for the that course.\n",
        "\n",
        "(e.g. valuePerCourse = (creditHours * gPoints), this will yield the value for that course.\n",
        "\n",
        "For each course (each pass through the loop),\n",
        "\n",
        "add creditHours to totalCredits and\n",
        "\n",
        "add valuePerCourse to qualityPoints\n",
        "\n",
        "qualityPoints  divided by total Credits results in a GPA.\n",
        "\n",
        "Display each course with their grade, and the value per course.\n",
        "\n",
        "Display the quality points and the GPA.  \n",
        "\n",
        "Display the proper string literals that will identify your output.  \n",
        "\n"
      ],
      "metadata": {
        "id": "scnbOXAZb9hL"
      }
    },
    {
      "cell_type": "code",
      "execution_count": 30,
      "metadata": {
        "colab": {
          "base_uri": "https://localhost:8080/"
        },
        "id": "ChDcZbH2aD_O",
        "outputId": "b6ff957d-80f6-4014-ce09-4e54054bde65"
      },
      "outputs": [
        {
          "output_type": "stream",
          "name": "stdout",
          "text": [
            "Course      Credits  Grade      Value Per Course\n",
            "--------  ---------  -------  ------------------\n",
            "CST 161           4  F                         0\n",
            "Mat 144           3  A                        12\n",
            "ENG 201           3  A                        12\n",
            "PSY 101           3  B                         9\n",
            "HIS 101           3  F                         0\n",
            "Total credits taken: 16\n",
            "Total quality points earned : 33\n",
            "Grade : 2.06\n"
          ]
        }
      ],
      "source": [
        "# for random values\n",
        "import random\n",
        "# to tabulate the output\n",
        "from tabulate import tabulate\n",
        "\n",
        "#dictionary as described in question\n",
        "gradePoints = {\"A\":4,\"B\":3,\"C\":2,\"D\":1,\"F\":0}\n",
        "#list as described in question\n",
        "courseList = [\"CST 161\",\"Mat 144\",\"ENG 201\",\"PSY 101\",\"HIS 101\"]\n",
        "#other lists as described in question\n",
        "gradeList = [\"A\",\"B\",\"C\",\"D\",\"F\"]\n",
        "creditList = [3,4]\n",
        "\n",
        "data = []\n",
        "total_credit = 0\n",
        "sums = 0\n",
        "\n",
        "for i in range(5):\n",
        "  temp = []\n",
        "  #for courses\n",
        "  temp.append(courseList[i])\n",
        "\n",
        "  #for credits\n",
        "  #To get a random list element, use the randint method with a range of (0,len(list)).\n",
        "  k = random.randint(0,1)\n",
        "  total_credit += creditList[k]\n",
        "  temp.append(creditList[k])\n",
        "\n",
        "  #for grades\n",
        "  #To get a random list element, use the randint method with a range of (0,len(list)).\n",
        "  k = random.randint(0,4)\n",
        "  temp.append(gradeList[k])\n",
        "\n",
        "  #for gradepoints\n",
        "  sums += gradePoints[gradeList[k]] * temp[1]\n",
        "  temp.append(gradePoints[gradeList[k]] * temp[1])\n",
        "\n",
        "  data.append(temp)\n",
        "\n",
        "print(tabulate(data,headers = [\"Course\",\"Credits\",\"Grade\",\"Value Per Course\"]))\n",
        "print(f\"Total credits taken: {total_credit}\")\n",
        "print(f\"Total quality points earned : {sums}\")\n",
        "print(f\"Grade : {round(sums/total_credit,2)}\")"
      ]
    },
    {
      "cell_type": "markdown",
      "source": [
        "QUESTION: After you are done, Add the logic to read the Courses, grades and credits from a file.  \n",
        "\n"
      ],
      "metadata": {
        "id": "kpeZcs62b8Hz"
      }
    },
    {
      "cell_type": "code",
      "source": [
        "\n",
        "# to tabulate the output\n",
        "from tabulate import tabulate\n",
        "\n",
        "#dictionary as described in question\n",
        "gradePoints = {\"A\":4,\"B\":3,\"C\":2,\"D\":1,\"F\":0}\n",
        "\n",
        "\n",
        "data = []\n",
        "total_credit = 0\n",
        "sums = 0\n",
        "\n",
        "\n",
        "\n",
        "for line in open(\"grades.txt\", \"r\"):\n",
        "  line= line.strip()\n",
        "  elems = line.split('\\t')\n",
        "\n",
        "  temp = []\n",
        "  #for courses\n",
        "  temp.append(elems[0])\n",
        "\n",
        "  #for credits\n",
        "  temp.append(elems[2])\n",
        "  total_credit += int(elems[2])\n",
        "\n",
        "  #for grades\n",
        "  temp.append(elems[1])\n",
        "\n",
        "\n",
        "  #for gradepoints\n",
        "  sums += gradePoints[elems[1]] * int(elems[2])\n",
        "  temp.append(gradePoints[elems[1]] * int(elems[2]))\n",
        "\n",
        "  data.append(temp)\n",
        "\n",
        "print(tabulate(data,headers = [\"Course\",\"Credits\",\"Grade\",\"Value Per Course\"]))\n",
        "print(f\"Total credits taken: {total_credit}\")\n",
        "print(f\"Total quality points earned : {sums}\")\n",
        "print(f\"Grade : {round(sums/total_credit,1)}\")\n",
        "\n"
      ],
      "metadata": {
        "colab": {
          "base_uri": "https://localhost:8080/"
        },
        "id": "PzRETdcHjDHa",
        "outputId": "f0e65ab9-fd94-4e99-a67c-b2af5d45d888"
      },
      "execution_count": 33,
      "outputs": [
        {
          "output_type": "stream",
          "name": "stdout",
          "text": [
            "Course      Credits  Grade      Value Per Course\n",
            "--------  ---------  -------  ------------------\n",
            "CST161            4  A                        16\n",
            "ENG101            3  B                         9\n",
            "MAT119            4  B                        12\n",
            "Total credits taken: 11\n",
            "Total quality points earned : 37\n",
            "Grade : 3.4\n"
          ]
        }
      ]
    }
  ]
}