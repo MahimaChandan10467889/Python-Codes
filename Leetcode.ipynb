{
  "nbformat": 4,
  "nbformat_minor": 0,
  "metadata": {
    "colab": {
      "name": "Leetcode.ipynb",
      "provenance": [],
      "collapsed_sections": [],
      "authorship_tag": "ABX9TyPGnxAwIKMpK2MesMqOgYld",
      "include_colab_link": true
    },
    "kernelspec": {
      "name": "python3",
      "display_name": "Python 3"
    },
    "language_info": {
      "name": "python"
    }
  },
  "cells": [
    {
      "cell_type": "markdown",
      "metadata": {
        "id": "view-in-github",
        "colab_type": "text"
      },
      "source": [
        "<a href=\"https://colab.research.google.com/github/MahimaChandan10467889/Python-Codes/blob/main/Leetcode.ipynb\" target=\"_parent\"><img src=\"https://colab.research.google.com/assets/colab-badge.svg\" alt=\"Open In Colab\"/></a>"
      ]
    },
    {
      "cell_type": "markdown",
      "source": [
        "Given the root of a binary tree, return the preorder traversal of its nodes' values."
      ],
      "metadata": {
        "id": "ROdByVhvN9e0"
      }
    },
    {
      "cell_type": "code",
      "execution_count": 4,
      "metadata": {
        "id": "o7xpvV60Nos9"
      },
      "outputs": [],
      "source": [
        "# Definition for a binary tree node.\n",
        "# class TreeNode:\n",
        "#     def __init__(self, val=0, left=None, right=None):\n",
        "#         self.val = val\n",
        "#         self.left = left\n",
        "#         self.right = right\n",
        "class Solution:\n",
        "    def preorderTraversal(self, root):\n",
        "        answer=[]\n",
        "        traversal=[]\n",
        "        node=root\n",
        "        while node or traversal:\n",
        "            while node:\n",
        "                if node.val!=None:\n",
        "                    answer.append(node.val)\n",
        "                traversal.append(node)\n",
        "                node=node.left\n",
        "            temp=traversal[-1]\n",
        "            traversal.pop()\n",
        "            if temp.right:\n",
        "                node=temp.right\n",
        "        return answer  \n",
        "        "
      ]
    },
    {
      "cell_type": "markdown",
      "source": [
        ""
      ],
      "metadata": {
        "id": "Dcj9u4ZQN8d0"
      }
    }
  ]
}