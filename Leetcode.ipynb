{
  "nbformat": 4,
  "nbformat_minor": 0,
  "metadata": {
    "colab": {
      "name": "Leetcode.ipynb",
      "provenance": [],
      "collapsed_sections": [],
      "authorship_tag": "ABX9TyOseIchi3i/rwfIafC5znZw",
      "include_colab_link": true
    },
    "kernelspec": {
      "name": "python3",
      "display_name": "Python 3"
    },
    "language_info": {
      "name": "python"
    }
  },
  "cells": [
    {
      "cell_type": "markdown",
      "metadata": {
        "id": "view-in-github",
        "colab_type": "text"
      },
      "source": [
        "<a href=\"https://colab.research.google.com/github/MahimaChandan10467889/Python-Codes/blob/main/Leetcode.ipynb\" target=\"_parent\"><img src=\"https://colab.research.google.com/assets/colab-badge.svg\" alt=\"Open In Colab\"/></a>"
      ]
    },
    {
      "cell_type": "markdown",
      "source": [
        "Given the root of a binary tree, return the preorder traversal of its nodes' values."
      ],
      "metadata": {
        "id": "ROdByVhvN9e0"
      }
    },
    {
      "cell_type": "code",
      "execution_count": 4,
      "metadata": {
        "id": "o7xpvV60Nos9"
      },
      "outputs": [],
      "source": [
        "# Definition for a binary tree node.\n",
        "# class TreeNode:\n",
        "#     def __init__(self, val=0, left=None, right=None):\n",
        "#         self.val = val\n",
        "#         self.left = left\n",
        "#         self.right = right\n",
        "class Solution:\n",
        "    def preorderTraversal(self, root):\n",
        "        answer=[]\n",
        "        traversal=[]\n",
        "        node=root\n",
        "        while node or traversal:\n",
        "            while node:\n",
        "                if node.val!=None:\n",
        "                    answer.append(node.val)\n",
        "                traversal.append(node)\n",
        "                node=node.left\n",
        "            temp=traversal[-1]\n",
        "            traversal.pop()\n",
        "            if temp.right:\n",
        "                node=temp.right\n",
        "        return answer  \n",
        "        "
      ]
    },
    {
      "cell_type": "markdown",
      "source": [
        "An integer array is called arithmetic if it consists of at least three elements and if the difference between any two consecutive elements is the same.\n",
        "\n",
        "For example, [1,3,5,7,9], [7,7,7,7], and [3,-1,-5,-9] are arithmetic sequences.\n",
        "Given an integer array nums, return the number of arithmetic subarrays of nums.\n",
        "\n",
        "A subarray is a contiguous subsequence of the array.\n",
        "\n"
      ],
      "metadata": {
        "id": "DIFTs0cv_n7l"
      }
    },
    {
      "cell_type": "code",
      "source": [
        "class Solution:\n",
        "    def numberOfArithmeticSlices(self, nums ):\n",
        "        count, answer, d2 = 0, 0, None\n",
        "        for i in range(1,len(nums)):\n",
        "            d1 = nums[i] - nums[i-1]\n",
        "            \n",
        "            if d1 == d2:\n",
        "                answer += count\n",
        "                \n",
        "                count += 1\n",
        "            else:\n",
        "                \n",
        "                d2 = d1\n",
        "                count = 1\n",
        "                \n",
        "        \n",
        "        return answer"
      ],
      "metadata": {
        "id": "CYDByRSCj417"
      },
      "execution_count": 14,
      "outputs": []
    },
    {
      "cell_type": "markdown",
      "source": [
        ""
      ],
      "metadata": {
        "id": "Dcj9u4ZQN8d0"
      }
    }
  ]
}